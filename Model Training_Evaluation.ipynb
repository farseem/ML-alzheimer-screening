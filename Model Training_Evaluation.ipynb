{
 "cells": [
  {
   "cell_type": "markdown",
   "id": "a2242383-e62f-4981-babf-d9030f536364",
   "metadata": {},
   "source": [
    "# Model Training and Evaluation"
   ]
  },
  {
   "cell_type": "code",
   "execution_count": 1,
   "id": "ee76958b-883c-4995-bdd4-34842de8464c",
   "metadata": {},
   "outputs": [],
   "source": [
    "import shap\n",
    "import numpy as np\n",
    "import pandas as pd\n",
    "import seaborn as sns\n",
    "from sklearn.svm import SVC\n",
    "from collections import Counter\n",
    "import matplotlib.pyplot as plt\n",
    "from xgboost import XGBClassifier\n",
    "from sklearn.utils import resample\n",
    "from catboost import CatBoostClassifier\n",
    "from sklearn.pipeline import make_pipeline\n",
    "from sklearn.tree import DecisionTreeClassifier\n",
    "from scipy.stats import friedmanchisquare, rankdata\n",
    "from sklearn.preprocessing import StandardScaler, OneHotEncoder\n",
    "from sklearn.ensemble import RandomForestClassifier, StackingClassifier, AdaBoostClassifier\n",
    "from sklearn.model_selection import train_test_split, cross_val_predict, StratifiedKFold, GridSearchCV\n",
    "from sklearn.metrics import confusion_matrix, classification_report, accuracy_score, precision_score, recall_score, f1_score, roc_curve, auc"
   ]
  },
  {
   "cell_type": "markdown",
   "id": "b7d08750-091b-405d-8ed9-69e1d896f8b2",
   "metadata": {},
   "source": [
    "## Read data"
   ]
  },
  {
   "cell_type": "code",
   "execution_count": 2,
   "id": "9557af2e-d86e-4ddc-b724-e3b921a77aa1",
   "metadata": {},
   "outputs": [],
   "source": [
    "# read data\n",
    "data = pd.read_csv(\"alzheimers_disease_data.csv\")\n",
    "data.shape\n",
    "data.drop(['PatientID', 'DoctorInCharge'], axis=1, inplace=True)"
   ]
  },
  {
   "cell_type": "code",
   "execution_count": 3,
   "id": "6c2fb431-e236-4044-94f3-adaaf69a9c58",
   "metadata": {},
   "outputs": [
    {
     "data": {
      "text/plain": [
       "(2149, 33)"
      ]
     },
     "execution_count": 3,
     "metadata": {},
     "output_type": "execute_result"
    }
   ],
   "source": [
    "data.shape"
   ]
  },
  {
   "cell_type": "markdown",
   "id": "ef63cc35-e5ac-45ae-8a2a-4e4049d4ba90",
   "metadata": {},
   "source": [
    "## Balancing (undersampling)"
   ]
  },
  {
   "cell_type": "markdown",
   "id": "b1202edd-25d8-404c-b601-6c919c6d4175",
   "metadata": {},
   "source": [
    "- The data distribution is imbalanced with 34.4% in one class and 64.6% in the other, requiring data balancing.\n",
    "- We initially trained and evaluated the model without balancing the data, achieving high metrics, such as 97% accuracy. However, we observed that the results were slightly biased towards the non-Alzheimer class, leading to overfitting. As a result, the model's performance in detecting Alzheimer’s was lower than expected. To address this, we repeated the entire process with balanced data.\n",
    "- We also experimented with oversampling using SMOTE, but it yielded poor results due to the higher inaccuracy of the Alzheimer instances compared to the non-Alzheimer cases. To avoid amplifying this effect, we opted for undersampling instead."
   ]
  },
  {
   "cell_type": "code",
   "execution_count": 8,
   "id": "e1360418-ec8f-4993-a441-1f24b43c5670",
   "metadata": {},
   "outputs": [
    {
     "name": "stdout",
     "output_type": "stream",
     "text": [
      "Original Class Distribution:\n",
      " Diagnosis\n",
      "0    64.634714\n",
      "1    35.365286\n",
      "Name: proportion, dtype: float64\n",
      "Balanced Class Distribution:\n",
      " Diagnosis\n",
      "0    50.0\n",
      "1    50.0\n",
      "Name: proportion, dtype: float64\n"
     ]
    }
   ],
   "source": [
    "#UNDER SMAPLING\n",
    "\n",
    "class_counts = data.iloc[:, -1].value_counts(normalize=True) * 100\n",
    "print(\"Original Class Distribution:\\n\", class_counts)\n",
    "\n",
    "# Splitting features and target variable\n",
    "X = data.iloc[:, :-1]  # Features\n",
    "y = data.iloc[:, -1]   # Target\n",
    "\n",
    "# Separate majority and minority classes\n",
    "majority_class = data[y == 0]  # Non-Alzheimer's (64.6%)\n",
    "minority_class = data[y == 1]  # Alzheimer's (35.4%)\n",
    "\n",
    "# Undersample the majority class to match the minority class size\n",
    "majority_downsampled = resample(majority_class, \n",
    "                                replace=False,  # Without replacement\n",
    "                                n_samples=len(minority_class),  # Match minority class size\n",
    "                                random_state=42)\n",
    "\n",
    "# Combine the downsampled majority class with the original minority class\n",
    "balanced_data = pd.concat([majority_downsampled, minority_class])\n",
    "\n",
    "# Shuffle the dataset\n",
    "balanced_data = balanced_data.sample(frac=1, random_state=42).reset_index(drop=True)\n",
    "\n",
    "# Check new class distribution\n",
    "new_class_counts = balanced_data.iloc[:, -1].value_counts(normalize=True) * 100\n",
    "print(\"Balanced Class Distribution:\\n\", new_class_counts)"
   ]
  },
  {
   "cell_type": "code",
   "execution_count": 10,
   "id": "be64a91b-4753-4b78-bac2-54e499756d06",
   "metadata": {},
   "outputs": [
    {
     "data": {
      "text/plain": [
       "(1520, 33)"
      ]
     },
     "execution_count": 10,
     "metadata": {},
     "output_type": "execute_result"
    }
   ],
   "source": [
    "balanced_data.shape"
   ]
  },
  {
   "cell_type": "markdown",
   "id": "c8b94889-875e-45fa-847a-dc1b01cae316",
   "metadata": {},
   "source": [
    "## Encode Nominal Categories (Ethnicity & EducationLevel)"
   ]
  },
  {
   "cell_type": "code",
   "execution_count": 13,
   "id": "1818b09c-3bb6-49db-8626-592d7bb1daae",
   "metadata": {},
   "outputs": [
    {
     "name": "stdout",
     "output_type": "stream",
     "text": [
      "Updated Dataset After One-Hot Encoding:\n"
     ]
    },
    {
     "data": {
      "text/html": [
       "<div>\n",
       "<style scoped>\n",
       "    .dataframe tbody tr th:only-of-type {\n",
       "        vertical-align: middle;\n",
       "    }\n",
       "\n",
       "    .dataframe tbody tr th {\n",
       "        vertical-align: top;\n",
       "    }\n",
       "\n",
       "    .dataframe thead th {\n",
       "        text-align: right;\n",
       "    }\n",
       "</style>\n",
       "<table border=\"1\" class=\"dataframe\">\n",
       "  <thead>\n",
       "    <tr style=\"text-align: right;\">\n",
       "      <th></th>\n",
       "      <th>Age</th>\n",
       "      <th>Gender</th>\n",
       "      <th>BMI</th>\n",
       "      <th>Smoking</th>\n",
       "      <th>AlcoholConsumption</th>\n",
       "      <th>PhysicalActivity</th>\n",
       "      <th>DietQuality</th>\n",
       "      <th>SleepQuality</th>\n",
       "      <th>FamilyHistoryAlzheimers</th>\n",
       "      <th>CardiovascularDisease</th>\n",
       "      <th>...</th>\n",
       "      <th>Forgetfulness</th>\n",
       "      <th>Diagnosis</th>\n",
       "      <th>Ethnicity_0</th>\n",
       "      <th>Ethnicity_1</th>\n",
       "      <th>Ethnicity_2</th>\n",
       "      <th>Ethnicity_3</th>\n",
       "      <th>EducationLevel_0</th>\n",
       "      <th>EducationLevel_1</th>\n",
       "      <th>EducationLevel_2</th>\n",
       "      <th>EducationLevel_3</th>\n",
       "    </tr>\n",
       "  </thead>\n",
       "  <tbody>\n",
       "    <tr>\n",
       "      <th>0</th>\n",
       "      <td>80</td>\n",
       "      <td>1</td>\n",
       "      <td>16.834968</td>\n",
       "      <td>0</td>\n",
       "      <td>19.053565</td>\n",
       "      <td>4.352272</td>\n",
       "      <td>3.432055</td>\n",
       "      <td>7.361459</td>\n",
       "      <td>0</td>\n",
       "      <td>0</td>\n",
       "      <td>...</td>\n",
       "      <td>0</td>\n",
       "      <td>0</td>\n",
       "      <td>0.0</td>\n",
       "      <td>1.0</td>\n",
       "      <td>0.0</td>\n",
       "      <td>0.0</td>\n",
       "      <td>0.0</td>\n",
       "      <td>1.0</td>\n",
       "      <td>0.0</td>\n",
       "      <td>0.0</td>\n",
       "    </tr>\n",
       "    <tr>\n",
       "      <th>1</th>\n",
       "      <td>88</td>\n",
       "      <td>1</td>\n",
       "      <td>35.353244</td>\n",
       "      <td>1</td>\n",
       "      <td>0.768943</td>\n",
       "      <td>8.883326</td>\n",
       "      <td>4.085773</td>\n",
       "      <td>7.450835</td>\n",
       "      <td>0</td>\n",
       "      <td>0</td>\n",
       "      <td>...</td>\n",
       "      <td>1</td>\n",
       "      <td>1</td>\n",
       "      <td>1.0</td>\n",
       "      <td>0.0</td>\n",
       "      <td>0.0</td>\n",
       "      <td>0.0</td>\n",
       "      <td>0.0</td>\n",
       "      <td>1.0</td>\n",
       "      <td>0.0</td>\n",
       "      <td>0.0</td>\n",
       "    </tr>\n",
       "    <tr>\n",
       "      <th>2</th>\n",
       "      <td>63</td>\n",
       "      <td>0</td>\n",
       "      <td>32.726550</td>\n",
       "      <td>0</td>\n",
       "      <td>16.971929</td>\n",
       "      <td>8.569751</td>\n",
       "      <td>8.744619</td>\n",
       "      <td>9.227229</td>\n",
       "      <td>0</td>\n",
       "      <td>0</td>\n",
       "      <td>...</td>\n",
       "      <td>0</td>\n",
       "      <td>1</td>\n",
       "      <td>0.0</td>\n",
       "      <td>0.0</td>\n",
       "      <td>1.0</td>\n",
       "      <td>0.0</td>\n",
       "      <td>0.0</td>\n",
       "      <td>1.0</td>\n",
       "      <td>0.0</td>\n",
       "      <td>0.0</td>\n",
       "    </tr>\n",
       "    <tr>\n",
       "      <th>3</th>\n",
       "      <td>75</td>\n",
       "      <td>1</td>\n",
       "      <td>38.668960</td>\n",
       "      <td>1</td>\n",
       "      <td>6.669039</td>\n",
       "      <td>7.328895</td>\n",
       "      <td>7.973275</td>\n",
       "      <td>9.966551</td>\n",
       "      <td>0</td>\n",
       "      <td>0</td>\n",
       "      <td>...</td>\n",
       "      <td>1</td>\n",
       "      <td>0</td>\n",
       "      <td>0.0</td>\n",
       "      <td>0.0</td>\n",
       "      <td>0.0</td>\n",
       "      <td>1.0</td>\n",
       "      <td>0.0</td>\n",
       "      <td>0.0</td>\n",
       "      <td>1.0</td>\n",
       "      <td>0.0</td>\n",
       "    </tr>\n",
       "    <tr>\n",
       "      <th>4</th>\n",
       "      <td>72</td>\n",
       "      <td>0</td>\n",
       "      <td>30.646711</td>\n",
       "      <td>0</td>\n",
       "      <td>4.452856</td>\n",
       "      <td>0.768016</td>\n",
       "      <td>4.978013</td>\n",
       "      <td>7.715735</td>\n",
       "      <td>0</td>\n",
       "      <td>1</td>\n",
       "      <td>...</td>\n",
       "      <td>0</td>\n",
       "      <td>0</td>\n",
       "      <td>0.0</td>\n",
       "      <td>1.0</td>\n",
       "      <td>0.0</td>\n",
       "      <td>0.0</td>\n",
       "      <td>0.0</td>\n",
       "      <td>0.0</td>\n",
       "      <td>1.0</td>\n",
       "      <td>0.0</td>\n",
       "    </tr>\n",
       "  </tbody>\n",
       "</table>\n",
       "<p>5 rows × 39 columns</p>\n",
       "</div>"
      ],
      "text/plain": [
       "   Age  Gender        BMI  Smoking  AlcoholConsumption  PhysicalActivity  \\\n",
       "0   80       1  16.834968        0           19.053565          4.352272   \n",
       "1   88       1  35.353244        1            0.768943          8.883326   \n",
       "2   63       0  32.726550        0           16.971929          8.569751   \n",
       "3   75       1  38.668960        1            6.669039          7.328895   \n",
       "4   72       0  30.646711        0            4.452856          0.768016   \n",
       "\n",
       "   DietQuality  SleepQuality  FamilyHistoryAlzheimers  CardiovascularDisease  \\\n",
       "0     3.432055      7.361459                        0                      0   \n",
       "1     4.085773      7.450835                        0                      0   \n",
       "2     8.744619      9.227229                        0                      0   \n",
       "3     7.973275      9.966551                        0                      0   \n",
       "4     4.978013      7.715735                        0                      1   \n",
       "\n",
       "   ...  Forgetfulness  Diagnosis  Ethnicity_0  Ethnicity_1  Ethnicity_2  \\\n",
       "0  ...              0          0          0.0          1.0          0.0   \n",
       "1  ...              1          1          1.0          0.0          0.0   \n",
       "2  ...              0          1          0.0          0.0          1.0   \n",
       "3  ...              1          0          0.0          0.0          0.0   \n",
       "4  ...              0          0          0.0          1.0          0.0   \n",
       "\n",
       "   Ethnicity_3  EducationLevel_0  EducationLevel_1  EducationLevel_2  \\\n",
       "0          0.0               0.0               1.0               0.0   \n",
       "1          0.0               0.0               1.0               0.0   \n",
       "2          0.0               0.0               1.0               0.0   \n",
       "3          1.0               0.0               0.0               1.0   \n",
       "4          0.0               0.0               0.0               1.0   \n",
       "\n",
       "   EducationLevel_3  \n",
       "0               0.0  \n",
       "1               0.0  \n",
       "2               0.0  \n",
       "3               0.0  \n",
       "4               0.0  \n",
       "\n",
       "[5 rows x 39 columns]"
      ]
     },
     "execution_count": 13,
     "metadata": {},
     "output_type": "execute_result"
    }
   ],
   "source": [
    "# Step 1: Select the nominal categorical features\n",
    "nominal_features = ['Ethnicity', 'EducationLevel']\n",
    "\n",
    "# Step 2: Initialize One-Hot Encoder without dropping any category\n",
    "ohe = OneHotEncoder(drop=None, sparse_output=False)  # Keep all categories\n",
    "\n",
    "# Step 3: Fit and transform the categorical features\n",
    "encoded_features = ohe.fit_transform(balanced_data[nominal_features])\n",
    "\n",
    "# Step 4: Convert the encoded features into a DataFrame\n",
    "encoded_df = pd.DataFrame(encoded_features, columns=ohe.get_feature_names_out(nominal_features))\n",
    "\n",
    "# Step 5: Drop the original categorical columns and merge encoded features\n",
    "data = balanced_data.drop(columns=nominal_features).reset_index(drop=True)  # Drop original categorical columns\n",
    "data = pd.concat([data, encoded_df], axis=1)  # Merge encoded data\n",
    "\n",
    "# Step 6: Verify the transformed data\n",
    "print(\"Updated Dataset After One-Hot Encoding:\")\n",
    "data.head()"
   ]
  },
  {
   "cell_type": "code",
   "execution_count": 15,
   "id": "1fcdd257-fe6c-4e47-82a6-57dc7193cf12",
   "metadata": {},
   "outputs": [
    {
     "data": {
      "text/plain": [
       "(1520, 39)"
      ]
     },
     "execution_count": 15,
     "metadata": {},
     "output_type": "execute_result"
    }
   ],
   "source": [
    "data.shape"
   ]
  },
  {
   "cell_type": "markdown",
   "id": "26a8181d-1532-492f-ab72-d098e3aa7dde",
   "metadata": {},
   "source": [
    "#### selected features obtained from the feature selection notebook "
   ]
  },
  {
   "cell_type": "code",
   "execution_count": 20,
   "id": "3f83a797-b3f3-4523-a131-aa8897449086",
   "metadata": {},
   "outputs": [],
   "source": [
    "selected_features = ['FunctionalAssessment', 'ADL', 'MemoryComplaints', 'MMSE', 'BehavioralProblems', 'SleepQuality', 'CholesterolHDL', 'CholesterolLDL', 'BMI', 'CholesterolTriglycerides', 'Age', 'PhysicalActivity', 'DietQuality', 'DiastolicBP', 'Gender']"
   ]
  },
  {
   "cell_type": "code",
   "execution_count": 22,
   "id": "6017ab5c-98f0-456c-8dd7-746e4aa06d15",
   "metadata": {},
   "outputs": [
    {
     "name": "stdout",
     "output_type": "stream",
     "text": [
      "15\n"
     ]
    }
   ],
   "source": [
    "print(len(selected_features))"
   ]
  },
  {
   "cell_type": "code",
   "execution_count": 24,
   "id": "19e86c59-78ca-4701-abcf-4041b3517dbe",
   "metadata": {},
   "outputs": [],
   "source": [
    "X = data[selected_features]  \n",
    "y = data['Diagnosis']"
   ]
  },
  {
   "cell_type": "code",
   "execution_count": 26,
   "id": "2ccf4b70-d8b8-4ff7-a70d-cc2e9a62d400",
   "metadata": {},
   "outputs": [
    {
     "data": {
      "text/plain": [
       "(1520, 39)"
      ]
     },
     "execution_count": 26,
     "metadata": {},
     "output_type": "execute_result"
    }
   ],
   "source": [
    "data.shape"
   ]
  },
  {
   "cell_type": "markdown",
   "id": "3454bf07-4291-4d1a-9c13-de053579cc67",
   "metadata": {},
   "source": [
    "## Split and scale the data"
   ]
  },
  {
   "cell_type": "code",
   "execution_count": 29,
   "id": "041df1fb-9f06-420f-9baf-a79b43476325",
   "metadata": {},
   "outputs": [],
   "source": [
    "# Split the data into 80% train and 20% test\n",
    "X_train, X_test, y_train, y_test = train_test_split(X, y, test_size=0.2, random_state=42)"
   ]
  },
  {
   "cell_type": "code",
   "execution_count": 31,
   "id": "eb0dabc5-1a53-49cf-8aea-00f4fd58f5f2",
   "metadata": {},
   "outputs": [],
   "source": [
    "scaler = StandardScaler()\n",
    "\n",
    "# Fit on training data and transform both train and test separately\n",
    "X_train_scaled = scaler.fit_transform(X_train)  \n",
    "X_test_scaled = scaler.transform(X_test)  "
   ]
  },
  {
   "cell_type": "markdown",
   "id": "92fd6637-d3a6-4b75-a322-ca29bbf9243b",
   "metadata": {},
   "source": [
    "## Fit and Predict"
   ]
  },
  {
   "cell_type": "markdown",
   "id": "8f8a744d-2ed1-4823-99c0-f78884074e9c",
   "metadata": {},
   "source": [
    "### Decision Tree"
   ]
  },
  {
   "cell_type": "code",
   "execution_count": 33,
   "id": "9c726f6d-e92c-4af3-bae1-4182bbe3c566",
   "metadata": {},
   "outputs": [
    {
     "name": "stdout",
     "output_type": "stream",
     "text": [
      "Accuracy: 0.881578947368421\n",
      "Classification Report:\n",
      "               precision    recall  f1-score   support\n",
      "\n",
      "           0      0.881     0.881     0.881       151\n",
      "           1      0.882     0.882     0.882       153\n",
      "\n",
      "    accuracy                          0.882       304\n",
      "   macro avg      0.882     0.882     0.882       304\n",
      "weighted avg      0.882     0.882     0.882       304\n",
      "\n",
      "Confusion Matrix:\n",
      " [[133  18]\n",
      " [ 18 135]]\n"
     ]
    }
   ],
   "source": [
    "dt = DecisionTreeClassifier(random_state=42)\n",
    "\n",
    "dt.fit(X_train_scaled, y_train)\n",
    "\n",
    "dt_y_pred = dt.predict(X_test_scaled)\n",
    "\n",
    "print(\"Accuracy:\", accuracy_score(y_test, dt_y_pred))\n",
    "\n",
    "print(\"Classification Report:\\n\", classification_report(y_test, dt_y_pred, digits=3))\n",
    "print(\"Confusion Matrix:\\n\", confusion_matrix(y_test, dt_y_pred))"
   ]
  },
  {
   "cell_type": "markdown",
   "id": "a088435c-08cb-4e6c-bdd1-c7a67a4d908d",
   "metadata": {},
   "source": [
    "### Random Forest"
   ]
  },
  {
   "cell_type": "code",
   "execution_count": 35,
   "id": "dd8212e4-496e-46e4-898d-1e3a9c586038",
   "metadata": {},
   "outputs": [
    {
     "name": "stdout",
     "output_type": "stream",
     "text": [
      "Accuracy: 0.9342105263157895\n",
      "\n",
      "Classification Report:\n",
      "               precision    recall  f1-score   support\n",
      "\n",
      "           0      0.912     0.960     0.935       151\n",
      "           1      0.959     0.908     0.933       153\n",
      "\n",
      "    accuracy                          0.934       304\n",
      "   macro avg      0.935     0.934     0.934       304\n",
      "weighted avg      0.935     0.934     0.934       304\n",
      "\n",
      "\n",
      "Confusion Matrix:\n",
      " [[145   6]\n",
      " [ 14 139]]\n"
     ]
    }
   ],
   "source": [
    "rf = RandomForestClassifier(random_state=42, n_estimators=100)  # 100 trees in the forest\n",
    "\n",
    "rf.fit(X_train_scaled, y_train)\n",
    "\n",
    "rf_y_pred = rf.predict(X_test_scaled)\n",
    "\n",
    "print(\"Accuracy:\", accuracy_score(y_test, rf_y_pred))\n",
    "print(\"\\nClassification Report:\\n\", classification_report(y_test, rf_y_pred, digits=3))\n",
    "print(\"\\nConfusion Matrix:\\n\", confusion_matrix(y_test, rf_y_pred))\n"
   ]
  },
  {
   "cell_type": "markdown",
   "id": "2105eccc-37bf-4194-ad55-3ac38fb47f69",
   "metadata": {},
   "source": [
    "### XGBoost"
   ]
  },
  {
   "cell_type": "code",
   "execution_count": 37,
   "id": "8ea569b3-5acd-4af2-8b01-bc0c7322e123",
   "metadata": {},
   "outputs": [
    {
     "name": "stdout",
     "output_type": "stream",
     "text": [
      "Accuracy: 0.9243421052631579\n",
      "\n",
      "Classification Report:\n",
      "               precision    recall  f1-score   support\n",
      "\n",
      "           0      0.916     0.934     0.925       151\n",
      "           1      0.933     0.915     0.924       153\n",
      "\n",
      "    accuracy                          0.924       304\n",
      "   macro avg      0.924     0.924     0.924       304\n",
      "weighted avg      0.925     0.924     0.924       304\n",
      "\n",
      "\n",
      "Confusion Matrix:\n",
      " [[141  10]\n",
      " [ 13 140]]\n"
     ]
    }
   ],
   "source": [
    "xgb = XGBClassifier(random_state=42, n_estimators=100, eval_metric='logloss')\n",
    "\n",
    "xgb.fit(X_train_scaled, y_train)\n",
    "\n",
    "xgb_y_pred = xgb.predict(X_test_scaled)\n",
    "\n",
    "print(\"Accuracy:\", accuracy_score(y_test, xgb_y_pred))\n",
    "print(\"\\nClassification Report:\\n\", classification_report(y_test, xgb_y_pred, digits=3))\n",
    "print(\"\\nConfusion Matrix:\\n\", confusion_matrix(y_test, xgb_y_pred))"
   ]
  },
  {
   "cell_type": "markdown",
   "id": "e82cabf0-f6db-462a-a49e-269efe251eff",
   "metadata": {},
   "source": [
    "### Catboost"
   ]
  },
  {
   "cell_type": "code",
   "execution_count": 39,
   "id": "da4863f5-7145-44c5-98fd-3cc770893f64",
   "metadata": {},
   "outputs": [
    {
     "name": "stdout",
     "output_type": "stream",
     "text": [
      "Accuracy: 0.9375\n",
      "\n",
      "Classification Report:\n",
      "               precision    recall  f1-score   support\n",
      "\n",
      "           0      0.923     0.954     0.938       151\n",
      "           1      0.953     0.922     0.937       153\n",
      "\n",
      "    accuracy                          0.938       304\n",
      "   macro avg      0.938     0.938     0.937       304\n",
      "weighted avg      0.938     0.938     0.937       304\n",
      "\n",
      "\n",
      "Confusion Matrix:\n",
      " [[144   7]\n",
      " [ 12 141]]\n"
     ]
    }
   ],
   "source": [
    "catboost = CatBoostClassifier(random_state=42, iterations=100, verbose=0)  # 100 iterations, silent training\n",
    "\n",
    "catboost.fit(X_train_scaled, y_train)\n",
    "\n",
    "catboost_y_pred = catboost.predict(X_test_scaled)\n",
    "\n",
    "print(\"Accuracy:\", accuracy_score(y_test, catboost_y_pred))\n",
    "print(\"\\nClassification Report:\\n\", classification_report(y_test, catboost_y_pred, digits=3))\n",
    "print(\"\\nConfusion Matrix:\\n\", confusion_matrix(y_test, catboost_y_pred))\n"
   ]
  },
  {
   "cell_type": "markdown",
   "id": "d038a79a-b893-4a53-9530-bd3c62039476",
   "metadata": {},
   "source": [
    "### AdaBoost"
   ]
  },
  {
   "cell_type": "code",
   "execution_count": 41,
   "id": "c3956d4c-4f57-45f1-87ce-19e6f96cafc6",
   "metadata": {},
   "outputs": [
    {
     "name": "stderr",
     "output_type": "stream",
     "text": [
      "C:\\Users\\chapp\\AppData\\Roaming\\Python\\Python312\\site-packages\\sklearn\\ensemble\\_weight_boosting.py:527: FutureWarning: The SAMME.R algorithm (the default) is deprecated and will be removed in 1.6. Use the SAMME algorithm to circumvent this warning.\n",
      "  warnings.warn(\n"
     ]
    },
    {
     "name": "stdout",
     "output_type": "stream",
     "text": [
      "Accuracy: 0.8848684210526315\n",
      "\n",
      "Classification Report:\n",
      "               precision    recall  f1-score   support\n",
      "\n",
      "           0      0.939     0.821     0.876       151\n",
      "           1      0.843     0.948     0.892       153\n",
      "\n",
      "    accuracy                          0.885       304\n",
      "   macro avg      0.891     0.884     0.884       304\n",
      "weighted avg      0.891     0.885     0.884       304\n",
      "\n",
      "\n",
      "Confusion Matrix:\n",
      " [[124  27]\n",
      " [  8 145]]\n"
     ]
    }
   ],
   "source": [
    "adaboost = AdaBoostClassifier(random_state=42, n_estimators=100)  # 100 weak learners\n",
    "\n",
    "adaboost.fit(X_train_scaled, y_train)\n",
    "\n",
    "adaboost_y_pred = adaboost.predict(X_test_scaled)\n",
    "\n",
    "print(\"Accuracy:\", accuracy_score(y_test, adaboost_y_pred))\n",
    "print(\"\\nClassification Report:\\n\", classification_report(y_test, adaboost_y_pred, digits=3))\n",
    "print(\"\\nConfusion Matrix:\\n\", confusion_matrix(y_test, adaboost_y_pred))\n"
   ]
  },
  {
   "cell_type": "markdown",
   "id": "b2610c77-017c-420d-ab29-75c29fe154e0",
   "metadata": {},
   "source": [
    "### SVM"
   ]
  },
  {
   "cell_type": "code",
   "execution_count": 43,
   "id": "d7ec624f-cade-47b4-a807-5c49ac181172",
   "metadata": {},
   "outputs": [
    {
     "name": "stdout",
     "output_type": "stream",
     "text": [
      "Accuracy: 0.875\n",
      "\n",
      "Classification Report:\n",
      "               precision    recall  f1-score   support\n",
      "\n",
      "           0      0.865     0.887     0.876       151\n",
      "           1      0.886     0.863     0.874       153\n",
      "\n",
      "    accuracy                          0.875       304\n",
      "   macro avg      0.875     0.875     0.875       304\n",
      "weighted avg      0.875     0.875     0.875       304\n",
      "\n",
      "\n",
      "Confusion Matrix:\n",
      " [[134  17]\n",
      " [ 21 132]]\n"
     ]
    }
   ],
   "source": [
    "# Initialize SVM Classifier\n",
    "svm = SVC(random_state=42, kernel='rbf')  # Using RBF kernel (default)\n",
    "\n",
    "# Train the model\n",
    "svm.fit(X_train_scaled, y_train)\n",
    "\n",
    "# Make predictions\n",
    "svm_y_pred = svm.predict(X_test_scaled)\n",
    "\n",
    "# Print evaluation metrics\n",
    "print(\"Accuracy:\", accuracy_score(y_test, svm_y_pred))\n",
    "print(\"\\nClassification Report:\\n\", classification_report(y_test, svm_y_pred, digits=3))\n",
    "print(\"\\nConfusion Matrix:\\n\", confusion_matrix(y_test, svm_y_pred))\n"
   ]
  },
  {
   "cell_type": "markdown",
   "id": "768dc570-7170-4065-b091-76de4cdc2dac",
   "metadata": {},
   "source": [
    "## Stratified cross validation"
   ]
  },
  {
   "cell_type": "markdown",
   "id": "99af779d-18c8-49d7-9f1e-41825166f447",
   "metadata": {},
   "source": [
    "### RF"
   ]
  },
  {
   "cell_type": "code",
   "execution_count": 45,
   "id": "5266f0ea-fab6-4599-9bcd-097d14bb978b",
   "metadata": {},
   "outputs": [
    {
     "name": "stdout",
     "output_type": "stream",
     "text": [
      "Fold 1:\n",
      "  Accuracy: 0.951\n",
      "  Precision: 0.955\n",
      "  Recall: 0.951\n",
      "  F1-Score: 0.951\n",
      "\n",
      "Fold 2:\n",
      "  Accuracy: 0.926\n",
      "  Precision: 0.926\n",
      "  Recall: 0.926\n",
      "  F1-Score: 0.926\n",
      "\n",
      "Fold 3:\n",
      "  Accuracy: 0.934\n",
      "  Precision: 0.934\n",
      "  Recall: 0.934\n",
      "  F1-Score: 0.934\n",
      "\n",
      "Fold 4:\n",
      "  Accuracy: 0.967\n",
      "  Precision: 0.969\n",
      "  Recall: 0.967\n",
      "  F1-Score: 0.967\n",
      "\n",
      "Fold 5:\n",
      "  Accuracy: 0.959\n",
      "  Precision: 0.960\n",
      "  Recall: 0.959\n",
      "  F1-Score: 0.959\n",
      "\n",
      "Fold 6:\n",
      "  Accuracy: 0.918\n",
      "  Precision: 0.918\n",
      "  Recall: 0.918\n",
      "  F1-Score: 0.918\n",
      "\n",
      "Fold 7:\n",
      "  Accuracy: 0.926\n",
      "  Precision: 0.931\n",
      "  Recall: 0.926\n",
      "  F1-Score: 0.925\n",
      "\n",
      "Fold 8:\n",
      "  Accuracy: 0.950\n",
      "  Precision: 0.951\n",
      "  Recall: 0.950\n",
      "  F1-Score: 0.950\n",
      "\n",
      "Fold 9:\n",
      "  Accuracy: 0.926\n",
      "  Precision: 0.931\n",
      "  Recall: 0.926\n",
      "  F1-Score: 0.925\n",
      "\n",
      "Fold 10:\n",
      "  Accuracy: 0.942\n",
      "  Precision: 0.942\n",
      "  Recall: 0.942\n",
      "  F1-Score: 0.942\n",
      "\n",
      "\n",
      "Final Cross-Validation Results for RF (Average Over 10 Folds):\n",
      "  Accuracy: 0.940 ± 0.016\n",
      "  Precision: 0.942 ± 0.016\n",
      "  Recall: 0.940 ± 0.016\n",
      "  F1-Score: 0.940 ± 0.016\n"
     ]
    }
   ],
   "source": [
    "\n",
    "# Initialize Random Forest Classifier\n",
    "rf = RandomForestClassifier(random_state=42, n_estimators=100)  # 100 trees in the forest\n",
    "\n",
    "# Apply 10-Fold Stratified Cross-Validation\n",
    "stratified_cv = StratifiedKFold(n_splits=10, shuffle=True, random_state=42)\n",
    "\n",
    "# Lists to store metrics for each fold\n",
    "accuracy_scores = []\n",
    "precision_scores = []\n",
    "recall_scores = []\n",
    "f1_scores = []\n",
    "\n",
    "# Perform 10-Fold Cross-Validation\n",
    "for fold, (train_idx, test_idx) in enumerate(stratified_cv.split(X_train_scaled, y_train), 1):\n",
    "    X_train_fold, X_test_fold = X_train_scaled[train_idx], X_train_scaled[test_idx]\n",
    "    y_train_fold, y_test_fold = y_train.iloc[train_idx], y_train.iloc[test_idx]\n",
    "\n",
    "    # Train model on current fold\n",
    "    rf.fit(X_train_fold, y_train_fold)\n",
    "    y_pred_fold = rf.predict(X_test_fold)\n",
    "\n",
    "    # Calculate metrics\n",
    "    accuracy = accuracy_score(y_test_fold, y_pred_fold)\n",
    "    precision = precision_score(y_test_fold, y_pred_fold, average='weighted')  # Weighted for class imbalance\n",
    "    recall = recall_score(y_test_fold, y_pred_fold, average='weighted')\n",
    "    f1 = f1_score(y_test_fold, y_pred_fold, average='weighted')\n",
    "\n",
    "    # Store results\n",
    "    accuracy_scores.append(accuracy)\n",
    "    precision_scores.append(precision)\n",
    "    recall_scores.append(recall)\n",
    "    f1_scores.append(f1)\n",
    "\n",
    "    # Print metrics for current fold\n",
    "    print(f\"Fold {fold}:\")\n",
    "    print(f\"  Accuracy: {accuracy:.3f}\")\n",
    "    print(f\"  Precision: {precision:.3f}\")\n",
    "    print(f\"  Recall: {recall:.3f}\")\n",
    "    print(f\"  F1-Score: {f1:.3f}\\n\")\n",
    "\n",
    "# Print average results across all folds\n",
    "print(\"\\nFinal Cross-Validation Results for RF (Average Over 10 Folds):\")\n",
    "print(f\"  Accuracy: {np.mean(accuracy_scores):.3f} ± {np.std(accuracy_scores):.3f}\")\n",
    "print(f\"  Precision: {np.mean(precision_scores):.3f} ± {np.std(precision_scores):.3f}\")\n",
    "print(f\"  Recall: {np.mean(recall_scores):.3f} ± {np.std(recall_scores):.3f}\")\n",
    "print(f\"  F1-Score: {np.mean(f1_scores):.3f} ± {np.std(f1_scores):.3f}\")\n"
   ]
  },
  {
   "cell_type": "markdown",
   "id": "a0d21c57-b363-4944-bdb1-92c09b74caad",
   "metadata": {},
   "source": [
    "### Catboost"
   ]
  },
  {
   "cell_type": "code",
   "execution_count": 53,
   "id": "c24d7d25-bcc6-46c7-a57a-58cf59416004",
   "metadata": {},
   "outputs": [
    {
     "name": "stdout",
     "output_type": "stream",
     "text": [
      "Fold 1:\n",
      "  Accuracy: 0.951\n",
      "  Precision: 0.955\n",
      "  Recall: 0.951\n",
      "  F1-Score: 0.951\n",
      "\n",
      "Fold 2:\n",
      "  Accuracy: 0.926\n",
      "  Precision: 0.926\n",
      "  Recall: 0.926\n",
      "  F1-Score: 0.926\n",
      "\n",
      "Fold 3:\n",
      "  Accuracy: 0.943\n",
      "  Precision: 0.943\n",
      "  Recall: 0.943\n",
      "  F1-Score: 0.943\n",
      "\n",
      "Fold 4:\n",
      "  Accuracy: 0.975\n",
      "  Precision: 0.977\n",
      "  Recall: 0.975\n",
      "  F1-Score: 0.975\n",
      "\n",
      "Fold 5:\n",
      "  Accuracy: 0.967\n",
      "  Precision: 0.968\n",
      "  Recall: 0.967\n",
      "  F1-Score: 0.967\n",
      "\n",
      "Fold 6:\n",
      "  Accuracy: 0.951\n",
      "  Precision: 0.951\n",
      "  Recall: 0.951\n",
      "  F1-Score: 0.951\n",
      "\n",
      "Fold 7:\n",
      "  Accuracy: 0.926\n",
      "  Precision: 0.928\n",
      "  Recall: 0.926\n",
      "  F1-Score: 0.925\n",
      "\n",
      "Fold 8:\n",
      "  Accuracy: 0.950\n",
      "  Precision: 0.951\n",
      "  Recall: 0.950\n",
      "  F1-Score: 0.950\n",
      "\n",
      "Fold 9:\n",
      "  Accuracy: 0.917\n",
      "  Precision: 0.921\n",
      "  Recall: 0.917\n",
      "  F1-Score: 0.917\n",
      "\n",
      "Fold 10:\n",
      "  Accuracy: 0.959\n",
      "  Precision: 0.960\n",
      "  Recall: 0.959\n",
      "  F1-Score: 0.959\n",
      "\n",
      "\n",
      "Final Cross-Validation Results for catboost (Average Over 10 Folds):\n",
      "  Accuracy: 0.947 ± 0.018\n",
      "  Precision: 0.948 ± 0.017\n",
      "  Recall: 0.947 ± 0.018\n",
      "  F1-Score: 0.946 ± 0.018\n"
     ]
    }
   ],
   "source": [
    "# Initialize CatBoost Classifier\n",
    "catboost = CatBoostClassifier(random_state=42, iterations=100, verbose=0)  # 100 iterations, silent training\n",
    "\n",
    "# Apply 10-Fold Stratified Cross-Validation\n",
    "stratified_cv = StratifiedKFold(n_splits=10, shuffle=True, random_state=42)\n",
    "\n",
    "# Lists to store metrics for each fold\n",
    "accuracy_scores = []\n",
    "precision_scores = []\n",
    "recall_scores = []\n",
    "f1_scores = []\n",
    "\n",
    "# Perform 10-Fold Cross-Validation\n",
    "for fold, (train_idx, test_idx) in enumerate(stratified_cv.split(X_train_scaled, y_train), 1):\n",
    "    X_train_fold, X_test_fold = X_train_scaled[train_idx], X_train_scaled[test_idx]\n",
    "    y_train_fold, y_test_fold = y_train.iloc[train_idx], y_train.iloc[test_idx]\n",
    "\n",
    "    # Train model on current fold\n",
    "    catboost.fit(X_train_fold, y_train_fold)\n",
    "    y_pred_fold = catboost.predict(X_test_fold)\n",
    "\n",
    "    # Calculate metrics\n",
    "    accuracy = accuracy_score(y_test_fold, y_pred_fold)\n",
    "    precision = precision_score(y_test_fold, y_pred_fold, average='weighted')  # Weighted for class imbalance\n",
    "    recall = recall_score(y_test_fold, y_pred_fold, average='weighted')\n",
    "    f1 = f1_score(y_test_fold, y_pred_fold, average='weighted')\n",
    "\n",
    "    # Store results\n",
    "    accuracy_scores.append(accuracy)\n",
    "    precision_scores.append(precision)\n",
    "    recall_scores.append(recall)\n",
    "    f1_scores.append(f1)\n",
    "\n",
    "    # Print metrics for current fold\n",
    "    print(f\"Fold {fold}:\")\n",
    "    print(f\"  Accuracy: {accuracy:.3f}\")\n",
    "    print(f\"  Precision: {precision:.3f}\")\n",
    "    print(f\"  Recall: {recall:.3f}\")\n",
    "    print(f\"  F1-Score: {f1:.3f}\\n\")\n",
    "\n",
    "# Print average results across all folds\n",
    "print(\"\\nFinal Cross-Validation Results for catboost (Average Over 10 Folds):\")\n",
    "print(f\"  Accuracy: {np.mean(accuracy_scores):.3f} ± {np.std(accuracy_scores):.3f}\")\n",
    "print(f\"  Precision: {np.mean(precision_scores):.3f} ± {np.std(precision_scores):.3f}\")\n",
    "print(f\"  Recall: {np.mean(recall_scores):.3f} ± {np.std(recall_scores):.3f}\")\n",
    "print(f\"  F1-Score: {np.mean(f1_scores):.3f} ± {np.std(f1_scores):.3f}\")\n"
   ]
  },
  {
   "cell_type": "markdown",
   "id": "3d182bbd-fd53-4f5b-a7c2-ab8282a42569",
   "metadata": {},
   "source": [
    "### XGboost"
   ]
  },
  {
   "cell_type": "code",
   "execution_count": 55,
   "id": "a98c72c9-dbba-442a-8751-58bad17f458c",
   "metadata": {},
   "outputs": [
    {
     "name": "stdout",
     "output_type": "stream",
     "text": [
      "Fold 1:\n",
      "  Accuracy: 0.943\n",
      "  Precision: 0.946\n",
      "  Recall: 0.943\n",
      "  F1-Score: 0.943\n",
      "\n",
      "Fold 2:\n",
      "  Accuracy: 0.943\n",
      "  Precision: 0.943\n",
      "  Recall: 0.943\n",
      "  F1-Score: 0.943\n",
      "\n",
      "Fold 3:\n",
      "  Accuracy: 0.943\n",
      "  Precision: 0.943\n",
      "  Recall: 0.943\n",
      "  F1-Score: 0.943\n",
      "\n",
      "Fold 4:\n",
      "  Accuracy: 0.975\n",
      "  Precision: 0.977\n",
      "  Recall: 0.975\n",
      "  F1-Score: 0.975\n",
      "\n",
      "Fold 5:\n",
      "  Accuracy: 0.959\n",
      "  Precision: 0.960\n",
      "  Recall: 0.959\n",
      "  F1-Score: 0.959\n",
      "\n",
      "Fold 6:\n",
      "  Accuracy: 0.926\n",
      "  Precision: 0.929\n",
      "  Recall: 0.926\n",
      "  F1-Score: 0.926\n",
      "\n",
      "Fold 7:\n",
      "  Accuracy: 0.917\n",
      "  Precision: 0.921\n",
      "  Recall: 0.917\n",
      "  F1-Score: 0.917\n",
      "\n",
      "Fold 8:\n",
      "  Accuracy: 0.950\n",
      "  Precision: 0.951\n",
      "  Recall: 0.950\n",
      "  F1-Score: 0.950\n",
      "\n",
      "Fold 9:\n",
      "  Accuracy: 0.909\n",
      "  Precision: 0.918\n",
      "  Recall: 0.909\n",
      "  F1-Score: 0.909\n",
      "\n",
      "Fold 10:\n",
      "  Accuracy: 0.926\n",
      "  Precision: 0.926\n",
      "  Recall: 0.926\n",
      "  F1-Score: 0.926\n",
      "\n",
      "\n",
      "Final Cross-Validation Results for XGboost (Average Over 10 Folds):\n",
      "  Accuracy: 0.939 ± 0.019\n",
      "  Precision: 0.941 ± 0.017\n",
      "  Recall: 0.939 ± 0.019\n",
      "  F1-Score: 0.939 ± 0.019\n"
     ]
    }
   ],
   "source": [
    "# Initialize XGBoost Classifier\n",
    "xgb = XGBClassifier(random_state=42, n_estimators=100, eval_metric='logloss')\n",
    "\n",
    "# Apply 10-Fold Stratified Cross-Validation\n",
    "stratified_cv = StratifiedKFold(n_splits=10, shuffle=True, random_state=42)\n",
    "\n",
    "# Lists to store metrics for each fold\n",
    "accuracy_scores = []\n",
    "precision_scores = []\n",
    "recall_scores = []\n",
    "f1_scores = []\n",
    "\n",
    "# Perform 10-Fold Cross-Validation\n",
    "for fold, (train_idx, test_idx) in enumerate(stratified_cv.split(X_train_scaled, y_train), 1):\n",
    "    X_train_fold, X_test_fold = X_train_scaled[train_idx], X_train_scaled[test_idx]\n",
    "    y_train_fold, y_test_fold = y_train.iloc[train_idx], y_train.iloc[test_idx]\n",
    "\n",
    "    # Train model on current fold\n",
    "    xgb.fit(X_train_fold, y_train_fold)\n",
    "    y_pred_fold = xgb.predict(X_test_fold)\n",
    "\n",
    "    # Calculate metrics\n",
    "    accuracy = accuracy_score(y_test_fold, y_pred_fold)\n",
    "    precision = precision_score(y_test_fold, y_pred_fold, average='weighted')  # Weighted for class imbalance\n",
    "    recall = recall_score(y_test_fold, y_pred_fold, average='weighted')\n",
    "    f1 = f1_score(y_test_fold, y_pred_fold, average='weighted')\n",
    "\n",
    "    # Store results\n",
    "    accuracy_scores.append(accuracy)\n",
    "    precision_scores.append(precision)\n",
    "    recall_scores.append(recall)\n",
    "    f1_scores.append(f1)\n",
    "\n",
    "    # Print metrics for current fold\n",
    "    print(f\"Fold {fold}:\")\n",
    "    print(f\"  Accuracy: {accuracy:.3f}\")\n",
    "    print(f\"  Precision: {precision:.3f}\")\n",
    "    print(f\"  Recall: {recall:.3f}\")\n",
    "    print(f\"  F1-Score: {f1:.3f}\\n\")\n",
    "\n",
    "# Print average results across all folds\n",
    "print(\"\\nFinal Cross-Validation Results for XGboost (Average Over 10 Folds):\")\n",
    "print(f\"  Accuracy: {np.mean(accuracy_scores):.3f} ± {np.std(accuracy_scores):.3f}\")\n",
    "print(f\"  Precision: {np.mean(precision_scores):.3f} ± {np.std(precision_scores):.3f}\")\n",
    "print(f\"  Recall: {np.mean(recall_scores):.3f} ± {np.std(recall_scores):.3f}\")\n",
    "print(f\"  F1-Score: {np.mean(f1_scores):.3f} ± {np.std(f1_scores):.3f}\")\n"
   ]
  },
  {
   "cell_type": "markdown",
   "id": "f74da3d2-f523-492a-b67c-c7a252baaef4",
   "metadata": {},
   "source": [
    "*We took best performing Three algorithms Catboost, Random Forest and XGboost*"
   ]
  },
  {
   "cell_type": "markdown",
   "id": "378736b1-ec39-4f70-a09d-363d450ea800",
   "metadata": {},
   "source": [
    "## Hyperparameter tuning on RF and Catboost"
   ]
  },
  {
   "cell_type": "markdown",
   "id": "c99e17a6-8f3b-4202-b5b8-fbf7790e6f67",
   "metadata": {},
   "source": [
    "### RF"
   ]
  },
  {
   "cell_type": "code",
   "execution_count": 55,
   "id": "32b6616e-eb2c-41d1-b24f-f9da86559f3d",
   "metadata": {},
   "outputs": [
    {
     "name": "stdout",
     "output_type": "stream",
     "text": [
      "Fitting 5 folds for each of 432 candidates, totalling 2160 fits\n",
      "Best Hyperparameters: {'bootstrap': False, 'max_depth': None, 'max_features': 'sqrt', 'min_samples_leaf': 1, 'min_samples_split': 5, 'n_estimators': 200}\n",
      "\n",
      "Accuracy: 0.9375\n",
      "\n",
      "Classification Report:\n",
      "               precision    recall  f1-score   support\n",
      "\n",
      "           0      0.923     0.954     0.938       151\n",
      "           1      0.953     0.922     0.937       153\n",
      "\n",
      "    accuracy                          0.938       304\n",
      "   macro avg      0.938     0.938     0.937       304\n",
      "weighted avg      0.938     0.938     0.937       304\n",
      "\n",
      "\n",
      "Confusion Matrix:\n",
      " [[144   7]\n",
      " [ 12 141]]\n"
     ]
    }
   ],
   "source": [
    "# Define the hyperparameter grid\n",
    "param_grid = {\n",
    "    'n_estimators': [50, 100, 200],  # Number of trees in the forest\n",
    "    'max_depth': [None, 10, 20, 30],  # Maximum depth of each tree\n",
    "    'min_samples_split': [2, 5, 10],  # Minimum number of samples required to split an internal node\n",
    "    'min_samples_leaf': [1, 2, 4],  # Minimum number of samples required to be a leaf node\n",
    "    'max_features': ['sqrt', 'log2'],  # Number of features to consider for best split\n",
    "    'bootstrap': [True, False],  # Whether bootstrap samples are used when building trees\n",
    "}\n",
    "\n",
    "# Initialize the Random Forest model\n",
    "rf = RandomForestClassifier(random_state=42)\n",
    "\n",
    "# Perform Grid Search with 5-Fold Cross-Validation\n",
    "grid_search = GridSearchCV(rf, param_grid, cv=5, scoring='accuracy', n_jobs=-1, verbose=1)\n",
    "\n",
    "# Fit on training data\n",
    "grid_search.fit(X_train_scaled, y_train)\n",
    "\n",
    "# Get the best parameters\n",
    "best_params = grid_search.best_params_\n",
    "print(\"Best Hyperparameters:\", best_params)\n",
    "\n",
    "# Train Random Forest with best parameters\n",
    "best_rf = RandomForestClassifier(**best_params, random_state=42)\n",
    "best_rf.fit(X_train_scaled, y_train)\n",
    "\n",
    "# Make predictions\n",
    "rf_y_pred = best_rf.predict(X_test_scaled)\n",
    "\n",
    "# Print evaluation metrics\n",
    "print(\"\\nAccuracy:\", accuracy_score(y_test, rf_y_pred))\n",
    "print(\"\\nClassification Report:\\n\", classification_report(y_test, rf_y_pred, digits=3))\n",
    "print(\"\\nConfusion Matrix:\\n\", confusion_matrix(y_test, rf_y_pred))"
   ]
  },
  {
   "cell_type": "markdown",
   "id": "fd42791c-45c9-4e41-a8c4-8910b775be56",
   "metadata": {},
   "source": [
    "### CatBoost"
   ]
  },
  {
   "cell_type": "code",
   "execution_count": 57,
   "id": "e9770fe8-1132-4137-a55c-9938bb68265b",
   "metadata": {},
   "outputs": [
    {
     "name": "stdout",
     "output_type": "stream",
     "text": [
      "Fitting 5 folds for each of 243 candidates, totalling 1215 fits\n",
      "Best Hyperparameters: {'border_count': 128, 'depth': 4, 'iterations': 500, 'l2_leaf_reg': 3, 'learning_rate': 0.01, 'loss_function': 'Logloss'}\n",
      "\n",
      "Accuracy: 0.9407894736842105\n",
      "\n",
      "Classification Report:\n",
      "               precision    recall  f1-score   support\n",
      "\n",
      "           0      0.929     0.954     0.941       151\n",
      "           1      0.953     0.928     0.940       153\n",
      "\n",
      "    accuracy                          0.941       304\n",
      "   macro avg      0.941     0.941     0.941       304\n",
      "weighted avg      0.941     0.941     0.941       304\n",
      "\n",
      "\n",
      "Confusion Matrix:\n",
      " [[144   7]\n",
      " [ 11 142]]\n"
     ]
    }
   ],
   "source": [
    "# Define the hyperparameter grid\n",
    "param_grid = {\n",
    "    'iterations': [500, 1000, 1500],\n",
    "    'learning_rate': [0.01, 0.1, 0.2],\n",
    "    'depth': [4, 6, 8],\n",
    "    'l2_leaf_reg': [1, 3, 5],\n",
    "    'border_count': [32, 64, 128],\n",
    "    'loss_function': ['Logloss']\n",
    "}\n",
    "\n",
    "# Initialize the CatBoost model\n",
    "catboost = CatBoostClassifier(random_state=42, verbose=0)\n",
    "\n",
    "# Perform Grid Search with 5-Fold Cross-Validation\n",
    "grid_search = GridSearchCV(catboost, param_grid, cv=5, scoring='accuracy', n_jobs=-1, verbose=1)\n",
    "\n",
    "# Fit on training data\n",
    "grid_search.fit(X_train_scaled, y_train)\n",
    "\n",
    "# Get the best parameters\n",
    "best_params = grid_search.best_params_\n",
    "print(\"Best Hyperparameters:\", best_params)\n",
    "\n",
    "# Train CatBoost with best parameters\n",
    "best_catboost = CatBoostClassifier(**best_params, random_state=42, verbose=0)\n",
    "best_catboost.fit(X_train_scaled, y_train)\n",
    "\n",
    "# Make predictions\n",
    "catboost_y_pred = best_catboost.predict(X_test_scaled)\n",
    "\n",
    "# Print evaluation metrics\n",
    "print(\"\\nAccuracy:\", accuracy_score(y_test, catboost_y_pred))\n",
    "print(\"\\nClassification Report:\\n\", classification_report(y_test, catboost_y_pred, digits=3))\n",
    "print(\"\\nConfusion Matrix:\\n\", confusion_matrix(y_test, catboost_y_pred))\n"
   ]
  },
  {
   "cell_type": "markdown",
   "id": "88ca3bf8-084f-4df2-8d73-06eb2c09839c",
   "metadata": {},
   "source": [
    "## Stacking"
   ]
  },
  {
   "cell_type": "code",
   "execution_count": 57,
   "id": "97826b3a-c15c-493d-ab9a-ed9c5c56d6bc",
   "metadata": {},
   "outputs": [
    {
     "name": "stdout",
     "output_type": "stream",
     "text": [
      "              precision    recall  f1-score   support\n",
      "\n",
      "           0      0.929     0.954     0.941       151\n",
      "           1      0.953     0.928     0.940       153\n",
      "\n",
      "    accuracy                          0.941       304\n",
      "   macro avg      0.941     0.941     0.941       304\n",
      "weighted avg      0.941     0.941     0.941       304\n",
      "\n",
      "[[144   7]\n",
      " [ 11 142]]\n"
     ]
    }
   ],
   "source": [
    "# Create the individual classifiers\n",
    "rf = make_pipeline(StandardScaler(),  RandomForestClassifier(\n",
    "    bootstrap=False, \n",
    "    max_depth=None, \n",
    "    max_features='sqrt', \n",
    "    min_samples_leaf=1, \n",
    "    min_samples_split=5, \n",
    "    n_estimators=200, \n",
    "    random_state=42  ))\n",
    "catboost = make_pipeline(StandardScaler(), CatBoostClassifier(\n",
    "    border_count=128, \n",
    "    depth=4, \n",
    "    iterations=500, \n",
    "    l2_leaf_reg=3, \n",
    "    learning_rate=0.01, \n",
    "    loss_function='Logloss', \n",
    "    random_seed=42,  \n",
    "    verbose=0  ))\n",
    "\n",
    "# Create the stacking classifier\n",
    "stacking_clf = StackingClassifier(\n",
    "    estimators=[('rf', rf), ('catboost', catboost)],  # Base models\n",
    "    final_estimator=RandomForestClassifier(n_estimators=100, random_state=42)  # Meta learner\n",
    ")\n",
    "\n",
    "\n",
    "# Perform cross-validation predictions\n",
    "stacking_preds = cross_val_predict(stacking_clf, X_train, y_train, cv=5)\n",
    "\n",
    "# Train the classifiers on the full training set\n",
    "stacking_clf.fit(X_train, y_train)\n",
    "\n",
    "# Predict on the test set\n",
    "stacking_test_preds = stacking_clf.predict(X_test)\n",
    "\n",
    "# Function to print classification report\n",
    "def print_classification_report(y_true, y_pred, title):\n",
    "    print(f\"\\n{title}\")\n",
    "    print(classification_report(y_true, y_pred))\n",
    "\n",
    "# Print classification reports\n",
    "print(classification_report(y_test, stacking_test_preds, digits = 3))\n",
    "print(confusion_matrix(y_test, stacking_test_preds))\n"
   ]
  },
  {
   "cell_type": "markdown",
   "id": "a9677a00-563f-4820-bdf9-a635041e1320",
   "metadata": {},
   "source": [
    "## Friedman test"
   ]
  },
  {
   "cell_type": "code",
   "execution_count": 59,
   "id": "f931b42c-5465-459a-9653-45e31372cc50",
   "metadata": {},
   "outputs": [
    {
     "name": "stdout",
     "output_type": "stream",
     "text": [
      "Stacking Scores: [0.9463087248322147, 0.9292929292929293, 0.9530201342281879, 0.9355932203389831, 0.9225589225589226]\n",
      "Random Forest Scores: [0.9463087248322147, 0.936026936026936, 0.9387755102040817, 0.9364548494983278, 0.9266666666666666]\n",
      "CatBoost Scores: [0.9463087248322147, 0.9431438127090301, 0.96, 0.9463087248322147, 0.9230769230769231]\n",
      "Friedman Test Statistic: 4.500000000000002\n",
      "P-value: 0.10539922456186428\n",
      "Stacking: Average Rank = 2.60\n",
      "Random Forest: Average Rank = 2.00\n",
      "CatBoost: Average Rank = 1.40\n",
      "\n",
      "Model Rankings:\n",
      "\n",
      "1. CatBoost (Average Rank: 1.40)\n",
      "2. Random Forest (Average Rank: 2.00)\n",
      "3. Stacking (Average Rank: 2.60)\n"
     ]
    }
   ],
   "source": [
    "# Define models\n",
    "models = {\n",
    "    'Stacking': stacking_clf,  \n",
    "    'Random Forest': RandomForestClassifier(\n",
    "    bootstrap=False, \n",
    "    max_depth=None, \n",
    "    max_features='sqrt', \n",
    "    min_samples_leaf=1, \n",
    "    min_samples_split=5, \n",
    "    n_estimators=200, \n",
    "    random_state=42  ),\n",
    "    'CatBoost': CatBoostClassifier(\n",
    "    border_count=128, \n",
    "    depth=4, \n",
    "    iterations=500, \n",
    "    l2_leaf_reg=3, \n",
    "    learning_rate=0.01, \n",
    "    loss_function='Logloss', \n",
    "    random_seed=42,  \n",
    "    verbose=0  )\n",
    "}\n",
    "\n",
    "# Initialize K-Fold\n",
    "kfold = StratifiedKFold(n_splits=5, shuffle=True, random_state=42)\n",
    "\n",
    "# Initialize a dictionary to store scores\n",
    "model_scores = {model_name: [] for model_name in models.keys()}\n",
    "\n",
    "# Perform K-Fold Cross-Validation\n",
    "for train_idx, test_idx in kfold.split(X, y):\n",
    "    X_train, X_test = X.iloc[train_idx], X.iloc[test_idx]\n",
    "    y_train, y_test = y.iloc[train_idx], y.iloc[test_idx]\n",
    "\n",
    "    for model_name, model in models.items():\n",
    "        model.fit(X_train, y_train)\n",
    "        y_pred = model.predict(X_test)\n",
    "        score = f1_score(y_test, y_pred)  # You can use other metrics like F1-score\n",
    "        model_scores[model_name].append(score)\n",
    "\n",
    "# Print scores\n",
    "for model_name, scores in model_scores.items():\n",
    "    print(f\"{model_name} Scores: {scores}\")\n",
    "\n",
    "\n",
    "# Convert model scores to a matrix\n",
    "scores_matrix = np.array([model_scores[model_name] for model_name in models.keys()])\n",
    "\n",
    "# Perform Friedman Test\n",
    "stat, p = friedmanchisquare(*scores_matrix)\n",
    "print(\"Friedman Test Statistic:\", stat)\n",
    "print(\"P-value:\", p)\n",
    "\n",
    "# Rank models for each fold\n",
    "ranks = np.array([rankdata(-fold_scores) for fold_scores in scores_matrix.T])\n",
    "avg_ranks = ranks.mean(axis=0)\n",
    "\n",
    "# Print model rankings\n",
    "model_names = list(models.keys())\n",
    "for model, rank in zip(model_names, avg_ranks):\n",
    "    print(f\"{model}: Average Rank = {rank:.2f}\")\n",
    "\n",
    "# Sort and display rankings\n",
    "sorted_models = sorted(zip(model_names, avg_ranks), key=lambda x: x[1])\n",
    "print(\"\\nModel Rankings:\\n\")\n",
    "for i, (model, rank) in enumerate(sorted_models, 1):\n",
    "    print(f\"{i}. {model} (Average Rank: {rank:.2f})\")\n",
    "    "
   ]
  },
  {
   "cell_type": "markdown",
   "id": "dd3cdf5b-ca3d-4c7e-98c6-e146550ca62e",
   "metadata": {},
   "source": [
    "## ROC Curve & AUC Score Investigation (Catboost)"
   ]
  },
  {
   "cell_type": "code",
   "execution_count": 61,
   "id": "a6668136-a859-4694-813b-57074b5f99df",
   "metadata": {},
   "outputs": [
    {
     "data": {
      "image/png": "[encoded data removed]",
      "text/plain": [
       "<Figure size 800x600 with 1 Axes>"
      ]
     },
     "metadata": {},
     "output_type": "display_data"
    }
   ],
   "source": [
    "catboost = CatBoostClassifier(\n",
    "    border_count=128, \n",
    "    depth=4, \n",
    "    iterations=500, \n",
    "    l2_leaf_reg=3, \n",
    "    learning_rate=0.01, \n",
    "    loss_function='Logloss', \n",
    "    random_seed=42,  \n",
    "    verbose=0  \n",
    ")\n",
    "\n",
    "# Train the model\n",
    "catboost.fit(X_train, y_train)\n",
    "\n",
    "# Get model predictions (probabilities)\n",
    "y_probs = catboost.predict_proba(X_test)[:, 1]  # Probabilities for the positive class\n",
    "\n",
    "# Compute ROC Curve\n",
    "fpr, tpr, _ = roc_curve(y_test, y_probs)\n",
    "roc_auc = auc(fpr, tpr)\n",
    "\n",
    "# Plot ROC Curve\n",
    "plt.figure(figsize=(8, 6))\n",
    "plt.plot(fpr, tpr, color='blue', label=f'ROC Curve (AUC = {roc_auc:.3f})')\n",
    "plt.plot([0, 1], [0, 1], color='grey', linestyle='--')  # Random guessing line\n",
    "plt.xlabel('False Positive Rate')\n",
    "plt.ylabel('True Positive Rate')\n",
    "plt.title('ROC Curve for CatBoost Model')\n",
    "plt.legend()\n",
    "plt.show()"
   ]
  },
  {
   "cell_type": "markdown",
   "id": "994c2a04-b389-40dd-928b-4e6f3299c9ae",
   "metadata": {},
   "source": [
    "## ROC Curve & AUC Score Investigation (Random Forest) "
   ]
  },
  {
   "cell_type": "code",
   "execution_count": 63,
   "id": "bacf9bd8-0254-44f3-a0b8-fc97c0f08e0c",
   "metadata": {},
   "outputs": [
    {
     "data": {
      "image/png": "[encoded data removed]",
      "text/plain": [
       "<Figure size 800x600 with 1 Axes>"
      ]
     },
     "metadata": {},
     "output_type": "display_data"
    }
   ],
   "source": [
    "RF = RandomForestClassifier(\n",
    "    bootstrap=False, \n",
    "    max_depth=None, \n",
    "    max_features='sqrt', \n",
    "    min_samples_leaf=1, \n",
    "    min_samples_split=5, \n",
    "    n_estimators=200, \n",
    "    random_state=42  )\n",
    "\n",
    "# Train the model\n",
    "RF.fit(X_train, y_train)\n",
    "\n",
    "# Get model predictions (probabilities)\n",
    "y_probs = RF.predict_proba(X_test)[:, 1]  # Probabilities for the positive class\n",
    "\n",
    "# Compute ROC Curve\n",
    "fpr, tpr, _ = roc_curve(y_test, y_probs)\n",
    "roc_auc = auc(fpr, tpr)\n",
    "\n",
    "# Plot ROC Curve\n",
    "plt.figure(figsize=(8, 6))\n",
    "plt.plot(fpr, tpr, color='blue', label=f'ROC Curve (AUC = {roc_auc:.3f})')\n",
    "plt.plot([0, 1], [0, 1], color='grey', linestyle='--')  # Random guessing line\n",
    "plt.xlabel('False Positive Rate')\n",
    "plt.ylabel('True Positive Rate')\n",
    "plt.title('ROC Curve for Random Forest Model')\n",
    "plt.legend()\n",
    "plt.show()"
   ]
  },
  {
   "cell_type": "markdown",
   "id": "b416ccc8-4067-4bba-bce1-a08b8cf2932f",
   "metadata": {},
   "source": [
    "# Explainability Investigation (SHAP value) for Catboost"
   ]
  },
  {
   "cell_type": "code",
   "execution_count": 65,
   "id": "3a823a4c-251f-410e-862f-ee514d904927",
   "metadata": {},
   "outputs": [
    {
     "data": {
      "image/png": "[encoded data removed]",
      "text/plain": [
       "<Figure size 800x750 with 2 Axes>"
      ]
     },
     "metadata": {},
     "output_type": "display_data"
    }
   ],
   "source": [
    "# Initialize SHAP explainer\n",
    "explainer = shap.TreeExplainer(catboost)\n",
    "shap_values = explainer.shap_values(X_test)\n",
    "\n",
    "# Plot SHAP summary plot\n",
    "shap.summary_plot(shap_values, X_test)\n"
   ]
  },
  {
   "cell_type": "markdown",
   "id": "d0233492-8d2e-4d8d-8f71-e36f98ae6d5a",
   "metadata": {},
   "source": [
    "## Interpretability analysis for Random Forest"
   ]
  },
  {
   "cell_type": "code",
   "execution_count": 67,
   "id": "6b348c29-2194-4853-9bad-e6ca0146dbfa",
   "metadata": {},
   "outputs": [
    {
     "data": {
      "image/png": "[encoded data removed]",
      "text/plain": [
       "<Figure size 1000x600 with 1 Axes>"
      ]
     },
     "metadata": {},
     "output_type": "display_data"
    }
   ],
   "source": [
    "# Get feature importance\n",
    "feature_importance = pd.Series(RF.feature_importances_, index=X_train.columns)\n",
    "\n",
    "# Sort and plot\n",
    "plt.figure(figsize=(10, 6))\n",
    "sns.barplot(x=feature_importance.sort_values(ascending=False), y=feature_importance.sort_values(ascending=False).index)\n",
    "plt.xlabel(\"Feature Importance Score\")\n",
    "plt.ylabel(\"Features\")\n",
    "plt.title(\"Feature Importance in Random Forest\")\n",
    "plt.show()\n"
   ]
  },
  {
   "cell_type": "code",
   "execution_count": null,
   "id": "c3c70494-997f-4d02-aefa-19184b8d9b97",
   "metadata": {},
   "outputs": [],
   "source": []
  }
 ],
 "metadata": {
  "kernelspec": {
   "display_name": "Python 3 (ipykernel)",
   "language": "python",
   "name": "python3"
  },
  "language_info": {
   "codemirror_mode": {
    "name": "ipython",
    "version": 3
   },
   "file_extension": ".py",
   "mimetype": "text/x-python",
   "name": "python",
   "nbconvert_exporter": "python",
   "pygments_lexer": "ipython3",
   "version": "3.12.4"
  }
 },
 "nbformat": 4,
 "nbformat_minor": 5
}
